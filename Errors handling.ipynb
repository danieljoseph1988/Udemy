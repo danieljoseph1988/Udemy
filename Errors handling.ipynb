{
 "cells": [
  {
   "cell_type": "code",
   "execution_count": 17,
   "metadata": {},
   "outputs": [
    {
     "name": "stdout",
     "output_type": "stream",
     "text": [
      "Just trying out\n",
      "Just trying out\n",
      "Just trying out\n"
     ]
    }
   ],
   "source": [
    "for i in ['a','b','c']:\n",
    "\n",
    "    try:\n",
    "        print(i**2)\n",
    "    except OSError:\n",
    "        print('You have an type Error. Can\\'t mix int and string')\n",
    "        continue\n",
    "    except:\n",
    "        print('Just trying out')"
   ]
  },
  {
   "cell_type": "code",
   "execution_count": 27,
   "metadata": {},
   "outputs": [],
   "source": [
    "def ask():\n",
    "    while True:\n",
    "        try:\n",
    "            x = int(input('Please provide an integer to sqaure it: '))\n",
    "            result = x**2\n",
    "            print(result)\n",
    "            break\n",
    "        except ValueError:\n",
    "            print('You need to provide an integer')"
   ]
  },
  {
   "cell_type": "code",
   "execution_count": 28,
   "metadata": {},
   "outputs": [
    {
     "name": "stdout",
     "output_type": "stream",
     "text": [
      "Please provide an integer to sqaure it: a\n",
      "You need to provide an integer\n",
      "Please provide an integer to sqaure it: a\n",
      "You need to provide an integer\n",
      "Please provide an integer to sqaure it: a\n",
      "You need to provide an integer\n",
      "Please provide an integer to sqaure it: 2\n",
      "4\n"
     ]
    }
   ],
   "source": [
    "ask()"
   ]
  }
 ],
 "metadata": {
  "kernelspec": {
   "display_name": "Python 3",
   "language": "python",
   "name": "python3"
  },
  "language_info": {
   "codemirror_mode": {
    "name": "ipython",
    "version": 3
   },
   "file_extension": ".py",
   "mimetype": "text/x-python",
   "name": "python",
   "nbconvert_exporter": "python",
   "pygments_lexer": "ipython3",
   "version": "3.8.5"
  }
 },
 "nbformat": 4,
 "nbformat_minor": 4
}
