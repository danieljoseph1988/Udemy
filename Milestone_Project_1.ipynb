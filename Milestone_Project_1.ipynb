{
 "cells": [
  {
   "cell_type": "code",
   "execution_count": 267,
   "metadata": {},
   "outputs": [],
   "source": [
    "from IPython.display import clear_output\n",
    "# In thsi milestone Project I will design a simple TicTacToe game\n",
    "# 2 players should be able to play the game (both sitting at the same computer)\n",
    "# The board should be printed out every time a player makes a move\n",
    "def game_start(board):\n",
    "    print('''\n",
    "    Hello dear players. You are about to play Tic-Tac-Toe\n",
    "    Below you can see your play board\n",
    "    ''')\n",
    "    display_board(board)"
   ]
  },
  {
   "cell_type": "code",
   "execution_count": 268,
   "metadata": {},
   "outputs": [],
   "source": [
    "def replay():\n",
    "    choice = input('Do you want to play another round? Y/N: ')\n",
    "    if choice == \"Y\":\n",
    "        return True\n",
    "    else:\n",
    "        return False"
   ]
  },
  {
   "cell_type": "code",
   "execution_count": 273,
   "metadata": {},
   "outputs": [],
   "source": [
    "def space_check(board, position):\n",
    "    print(str(position) + '  Position chosen')\n",
    "    if board[str(position)] == 'X':\n",
    "        print(f'Positon {position} is already taken. Please choose another')\n",
    "        return False\n",
    "    elif board[str(position)] == 'O':\n",
    "        print(f'Positon {position} is already taken. Please choose another')\n",
    "        return False\n",
    "    else:\n",
    "        print('Great Job! You did a valid choice')\n",
    "        return True"
   ]
  },
  {
   "cell_type": "code",
   "execution_count": 282,
   "metadata": {},
   "outputs": [],
   "source": [
    "def win_check(board,mark):\n",
    "    return ((board['1'] == mark and board['2'] == mark and board['3'] == mark))"
   ]
  },
  {
   "cell_type": "code",
   "execution_count": 274,
   "metadata": {},
   "outputs": [],
   "source": [
    "def display_board(board):\n",
    "    row_1 = [board['7'],' | ',board['8'],' | ',board['9']]\n",
    "    row_2= [board['4'],' | ',board['5'],' | ',board['6']]\n",
    "    row_3 = [board['1'],' | ',board['2'],' | ',board['3']]\n",
    "    row_10 = ''\n",
    "    row_20 = ''\n",
    "    row_30 = ''\n",
    "    for element in row_1:\n",
    "        row_10 += element\n",
    "    for element in row_2:\n",
    "        row_20 += element\n",
    "    for element in row_3:\n",
    "        row_30 += element\n",
    "    print('  '+row_10)\n",
    "    print('-------------')\n",
    "    print('  '+row_20)\n",
    "    print('-------------')\n",
    "    print('  '+row_30)"
   ]
  },
  {
   "cell_type": "code",
   "execution_count": 285,
   "metadata": {},
   "outputs": [],
   "source": [
    "#printing the Board\n",
    "def playing(board):\n",
    "    player_1 = 'X'\n",
    "    player_2 = 'O'\n",
    "    selection = ''\n",
    "    \n",
    "    while selection not in [player_2, player_1]:\n",
    "        selection = input(f'''Please choose which player you want to be\n",
    "        Press {player_1} or {player_2}: ''')\n",
    "        print(f'You choose {selection}')\n",
    "        if selection not in [player_2, player_1]:\n",
    "            print(f'Please provide a correct input: {player_1} or {player_2}')\n",
    "    \n",
    "    if selection == player_2:\n",
    "        player_2 = player_1\n",
    "        player_1 = selection\n",
    "    print(f'Player 1 is: \"{player_1}\" and player 2 is: \"{player_2}\"')    \n",
    "        \n",
    "    for item in range(5) :#Change this to rules for tic tac toe\n",
    "        user_1_input = 0\n",
    "        user_2_input = 0\n",
    "        #Input from Player 1\n",
    "        while user_1_input not in range(1,10) or space_check(board, user_1_input) == False:\n",
    "            user_1_input = int(input(f'Player 1: {player_1} Please provide a number from 1-9: '))\n",
    "            if user_1_input not in range(1,10):\n",
    "                print('Wrong Input: Please input a number between 1 and 9')\n",
    "        \n",
    "        board[str(user_1_input)] = player_1\n",
    "        if win_check(board, player_1):\n",
    "            print('Congrats, you won!')\n",
    "            break\n",
    "        #Check is Board is full\n",
    "        if all(X=='X' or X=='O' for X in board.values()) == True:\n",
    "            print('Board is full and there is no winner')\n",
    "            display_board(board)\n",
    "            break\n",
    "        else:\n",
    "            pass\n",
    "        \n",
    "        display_board(board)\n",
    "        # Input from Player 2\n",
    "        while user_2_input not in range(1,10) or space_check(board, user_2_input) == False:\n",
    "            user_2_input = int(input(f'Player:2: {player_2} Please provide a number from 1-9: '))\n",
    "            if user_2_input not in range(1,10):\n",
    "                print('Wrong Input: Please input a number between 1 and 9')\n",
    "        \n",
    "        board[str(user_2_input)] = player_2        \n",
    "        display_board(board)\n",
    "    "
   ]
  },
  {
   "cell_type": "code",
   "execution_count": 287,
   "metadata": {},
   "outputs": [
    {
     "name": "stdout",
     "output_type": "stream",
     "text": [
      "\n",
      "    Hello dear players. You are about to play Tic-Tac-Toe\n",
      "    Below you can see your play board\n",
      "    \n",
      "  7 | 8 | 9\n",
      "-------------\n",
      "  4 | 5 | 6\n",
      "-------------\n",
      "  1 | 2 | 3\n"
     ]
    },
    {
     "ename": "KeyboardInterrupt",
     "evalue": "Interrupted by user",
     "output_type": "error",
     "traceback": [
      "\u001b[1;31m---------------------------------------------------------------------------\u001b[0m",
      "\u001b[1;31mKeyboardInterrupt\u001b[0m                         Traceback (most recent call last)",
      "\u001b[1;32m<ipython-input-287-550225c68d6a>\u001b[0m in \u001b[0;36m<module>\u001b[1;34m\u001b[0m\n\u001b[0;32m     11\u001b[0m     \u001b[1;32melse\u001b[0m\u001b[1;33m:\u001b[0m\u001b[1;33m\u001b[0m\u001b[1;33m\u001b[0m\u001b[0m\n\u001b[0;32m     12\u001b[0m         \u001b[0mclear_output\u001b[0m\u001b[1;33m(\u001b[0m\u001b[1;33m)\u001b[0m\u001b[1;33m\u001b[0m\u001b[1;33m\u001b[0m\u001b[0m\n\u001b[1;32m---> 13\u001b[1;33m \u001b[0mgame\u001b[0m\u001b[1;33m(\u001b[0m\u001b[1;33m)\u001b[0m\u001b[1;33m\u001b[0m\u001b[1;33m\u001b[0m\u001b[0m\n\u001b[0m",
      "\u001b[1;32m<ipython-input-287-550225c68d6a>\u001b[0m in \u001b[0;36mgame\u001b[1;34m()\u001b[0m\n\u001b[0;32m      4\u001b[0m     \u001b[0mgame_start\u001b[0m\u001b[1;33m(\u001b[0m\u001b[0mboard\u001b[0m\u001b[1;33m)\u001b[0m\u001b[1;33m\u001b[0m\u001b[1;33m\u001b[0m\u001b[0m\n\u001b[0;32m      5\u001b[0m \u001b[1;33m\u001b[0m\u001b[0m\n\u001b[1;32m----> 6\u001b[1;33m     \u001b[0mplaying\u001b[0m\u001b[1;33m(\u001b[0m\u001b[0mboard\u001b[0m\u001b[1;33m)\u001b[0m\u001b[1;33m\u001b[0m\u001b[1;33m\u001b[0m\u001b[0m\n\u001b[0m\u001b[0;32m      7\u001b[0m \u001b[1;33m\u001b[0m\u001b[0m\n\u001b[0;32m      8\u001b[0m     \u001b[1;32mif\u001b[0m \u001b[0mreplay\u001b[0m\u001b[1;33m(\u001b[0m\u001b[1;33m)\u001b[0m \u001b[1;33m==\u001b[0m \u001b[1;32mTrue\u001b[0m\u001b[1;33m:\u001b[0m\u001b[1;33m\u001b[0m\u001b[1;33m\u001b[0m\u001b[0m\n",
      "\u001b[1;32m<ipython-input-285-07f94665b7f9>\u001b[0m in \u001b[0;36mplaying\u001b[1;34m(board)\u001b[0m\n\u001b[0;32m      6\u001b[0m \u001b[1;33m\u001b[0m\u001b[0m\n\u001b[0;32m      7\u001b[0m     \u001b[1;32mwhile\u001b[0m \u001b[0mselection\u001b[0m \u001b[1;32mnot\u001b[0m \u001b[1;32min\u001b[0m \u001b[1;33m[\u001b[0m\u001b[0mplayer_2\u001b[0m\u001b[1;33m,\u001b[0m \u001b[0mplayer_1\u001b[0m\u001b[1;33m]\u001b[0m\u001b[1;33m:\u001b[0m\u001b[1;33m\u001b[0m\u001b[1;33m\u001b[0m\u001b[0m\n\u001b[1;32m----> 8\u001b[1;33m         selection = input(f'''Please choose which player you want to be\n\u001b[0m\u001b[0;32m      9\u001b[0m         Press {player_1} or {player_2}: ''')\n\u001b[0;32m     10\u001b[0m         \u001b[0mprint\u001b[0m\u001b[1;33m(\u001b[0m\u001b[1;34mf'You choose {selection}'\u001b[0m\u001b[1;33m)\u001b[0m\u001b[1;33m\u001b[0m\u001b[1;33m\u001b[0m\u001b[0m\n",
      "\u001b[1;32m~\\anaconda3\\lib\\site-packages\\ipykernel\\kernelbase.py\u001b[0m in \u001b[0;36mraw_input\u001b[1;34m(self, prompt)\u001b[0m\n\u001b[0;32m    858\u001b[0m                 \u001b[1;34m\"raw_input was called, but this frontend does not support input requests.\"\u001b[0m\u001b[1;33m\u001b[0m\u001b[1;33m\u001b[0m\u001b[0m\n\u001b[0;32m    859\u001b[0m             )\n\u001b[1;32m--> 860\u001b[1;33m         return self._input_request(str(prompt),\n\u001b[0m\u001b[0;32m    861\u001b[0m             \u001b[0mself\u001b[0m\u001b[1;33m.\u001b[0m\u001b[0m_parent_ident\u001b[0m\u001b[1;33m,\u001b[0m\u001b[1;33m\u001b[0m\u001b[1;33m\u001b[0m\u001b[0m\n\u001b[0;32m    862\u001b[0m             \u001b[0mself\u001b[0m\u001b[1;33m.\u001b[0m\u001b[0m_parent_header\u001b[0m\u001b[1;33m,\u001b[0m\u001b[1;33m\u001b[0m\u001b[1;33m\u001b[0m\u001b[0m\n",
      "\u001b[1;32m~\\anaconda3\\lib\\site-packages\\ipykernel\\kernelbase.py\u001b[0m in \u001b[0;36m_input_request\u001b[1;34m(self, prompt, ident, parent, password)\u001b[0m\n\u001b[0;32m    902\u001b[0m             \u001b[1;32mexcept\u001b[0m \u001b[0mKeyboardInterrupt\u001b[0m\u001b[1;33m:\u001b[0m\u001b[1;33m\u001b[0m\u001b[1;33m\u001b[0m\u001b[0m\n\u001b[0;32m    903\u001b[0m                 \u001b[1;31m# re-raise KeyboardInterrupt, to truncate traceback\u001b[0m\u001b[1;33m\u001b[0m\u001b[1;33m\u001b[0m\u001b[1;33m\u001b[0m\u001b[0m\n\u001b[1;32m--> 904\u001b[1;33m                 \u001b[1;32mraise\u001b[0m \u001b[0mKeyboardInterrupt\u001b[0m\u001b[1;33m(\u001b[0m\u001b[1;34m\"Interrupted by user\"\u001b[0m\u001b[1;33m)\u001b[0m \u001b[1;32mfrom\u001b[0m \u001b[1;32mNone\u001b[0m\u001b[1;33m\u001b[0m\u001b[1;33m\u001b[0m\u001b[0m\n\u001b[0m\u001b[0;32m    905\u001b[0m             \u001b[1;32mexcept\u001b[0m \u001b[0mException\u001b[0m \u001b[1;32mas\u001b[0m \u001b[0me\u001b[0m\u001b[1;33m:\u001b[0m\u001b[1;33m\u001b[0m\u001b[1;33m\u001b[0m\u001b[0m\n\u001b[0;32m    906\u001b[0m                 \u001b[0mself\u001b[0m\u001b[1;33m.\u001b[0m\u001b[0mlog\u001b[0m\u001b[1;33m.\u001b[0m\u001b[0mwarning\u001b[0m\u001b[1;33m(\u001b[0m\u001b[1;34m\"Invalid Message:\"\u001b[0m\u001b[1;33m,\u001b[0m \u001b[0mexc_info\u001b[0m\u001b[1;33m=\u001b[0m\u001b[1;32mTrue\u001b[0m\u001b[1;33m)\u001b[0m\u001b[1;33m\u001b[0m\u001b[1;33m\u001b[0m\u001b[0m\n",
      "\u001b[1;31mKeyboardInterrupt\u001b[0m: Interrupted by user"
     ]
    }
   ],
   "source": [
    "# This is the consolidation of all functions\n",
    "def game():    \n",
    "    board = {'1': '1', '2': '2','3':'3', '4':'4','5':'5','6':'6','7':'7','8':'8','9':'9'}\n",
    "    game_start(board)\n",
    "    \n",
    "    playing(board)\n",
    "    \n",
    "    if replay() == True:\n",
    "        clear_output()\n",
    "        game()\n",
    "    else:\n",
    "        clear_output()\n",
    "game()"
   ]
  }
 ],
 "metadata": {
  "kernelspec": {
   "display_name": "Python 3",
   "language": "python",
   "name": "python3"
  },
  "language_info": {
   "codemirror_mode": {
    "name": "ipython",
    "version": 3
   },
   "file_extension": ".py",
   "mimetype": "text/x-python",
   "name": "python",
   "nbconvert_exporter": "python",
   "pygments_lexer": "ipython3",
   "version": "3.8.5"
  }
 },
 "nbformat": 4,
 "nbformat_minor": 4
}
