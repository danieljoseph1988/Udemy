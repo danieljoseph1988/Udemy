{
 "cells": [
  {
   "cell_type": "code",
   "execution_count": 206,
   "metadata": {},
   "outputs": [],
   "source": [
    "from IPython.display import clear_output\n",
    "# In thsi milestone Project I will design a simple TicTacToe game\n",
    "# 2 players should be able to play the game (both sitting at the same computer)\n",
    "# The board should be printed out every time a player makes a move\n",
    "\n",
    "board = {'1': '1', '2': '2','3':'3', '4':'4','5':'5','6':'6','7':'7','8':'8','9':'9'}\n",
    "\n",
    "#Game Layout\n",
    "# Ask player whether he wants to pick 'X' or 'o'\n",
    "#While loop - While game not aborted or game won or game end - Do\n",
    "\n",
    "    \n",
    "    # Ask for input (and validate input)\n",
    "    # Update Board if input valid\n",
    "    # switch to next user\n",
    "    # Ask for input (and validate input)\n",
    "    # Ask if players want to continue the game \n",
    "    # (both simultaniously, as in front of same PC)\n",
    "    \n",
    "# Designing Board - lets try with lines in between and special extra rows\n",
    "# with lines for seperation of rows\n"
   ]
  },
  {
   "cell_type": "code",
   "execution_count": 207,
   "metadata": {},
   "outputs": [],
   "source": [
    "def display_board(board):\n",
    "    row_1 = [board['7'],' | ',board['8'],' | ',board['9']]\n",
    "    row_2= [board['4'],' | ',board['5'],' | ',board['6']]\n",
    "    row_3 = [board['1'],' | ',board['2'],' | ',board['3']]\n",
    "    row_10 = ''\n",
    "    row_20 = ''\n",
    "    row_30 = ''\n",
    "    for element in row_1:\n",
    "        row_10 += element\n",
    "    for element in row_2:\n",
    "        row_20 += element\n",
    "    for element in row_3:\n",
    "        row_30 += element\n",
    "    print('  '+row_10)\n",
    "    print('-------------')\n",
    "    print('  '+row_20)\n",
    "    print('-------------')\n",
    "    print('  '+row_30)"
   ]
  },
  {
   "cell_type": "code",
   "execution_count": 202,
   "metadata": {},
   "outputs": [],
   "source": [
    "#printing the Board\n",
    "def player_input():\n",
    "    for item in range(len(board)):\n",
    "        user_1_input = input('Please provide a number from 1-9: ')\n",
    "        board[user_1_input] = 'X'\n",
    "        display_board(board)\n",
    "\n",
    "    clear_output()"
   ]
  },
  {
   "cell_type": "code",
   "execution_count": 208,
   "metadata": {},
   "outputs": [
    {
     "name": "stdout",
     "output_type": "stream",
     "text": [
      "\n",
      "    Hello dear players. You are about to play Tic-Tac-Toe\n",
      "    Below you can see your play board\n",
      "    \n",
      "  7 | 8 | 9\n",
      "-------------\n",
      "  4 | 5 | 6\n",
      "-------------\n",
      "  1 | 2 | 3\n"
     ]
    }
   ],
   "source": [
    "# This is the consolidation of all functions\n",
    "def game_start():\n",
    "    print('''\n",
    "    Hello dear players. You are about to play Tic-Tac-Toe\n",
    "    Below you can see your play board\n",
    "    ''')\n",
    "    display_board(board)\n",
    "game_start()"
   ]
  },
  {
   "cell_type": "code",
   "execution_count": 209,
   "metadata": {},
   "outputs": [],
   "source": [
    "player_input()"
   ]
  }
 ],
 "metadata": {
  "kernelspec": {
   "display_name": "Python 3",
   "language": "python",
   "name": "python3"
  },
  "language_info": {
   "codemirror_mode": {
    "name": "ipython",
    "version": 3
   },
   "file_extension": ".py",
   "mimetype": "text/x-python",
   "name": "python",
   "nbconvert_exporter": "python",
   "pygments_lexer": "ipython3",
   "version": "3.8.5"
  }
 },
 "nbformat": 4,
 "nbformat_minor": 4
}
