{
 "cells": [
  {
   "cell_type": "code",
   "execution_count": null,
   "metadata": {},
   "outputs": [],
   "source": [
    "# Project Layout - Black_Jack\n",
    "    # Create Card Class\n",
    "        # Attributes - rank, suit, Value (result of rank & suit)\n",
    "        # repr\n",
    "        # Jack, King, Queen = 10; Ace - Default of 0 -> Player decides 1/11\n",
    "    # Create Deck Class\n",
    "        # Result of different Cards\n",
    "    # Create Player Class\n",
    "        # Attributes - name, balance\n",
    "        \n",
    "        # Functions\n",
    "            # stand, hit, withdraw(place_bet), deposit\n",
    "    # Game Mode\n",
    "        # initial distribution of cards to computer (1 up/1 down) \n",
    "        # and player (both up)\n",
    "        # while game on\n",
    "            \n",
    "            # while player_plays\n",
    "            # if player decides to stand -> player_plays = False\n",
    "            # if player decides to hit\n",
    "                # destribute card\n",
    "                # check if sum < 21\n",
    "                # if card if Ace = player decision whether 1/11\n",
    "            # else: player_plays = False\n",
    "        # Different checks, whether computer keeps to hit cards\n",
    "            # computer wins:\n",
    "            # sum_computer > sum_human\n",
    "            # computer keeps hitting if sum_computer < sum_human - No DRAW!\n",
    "            # human wins -> sum_Human > sum_computer\n",
    "            \n",
    "        # if computer wins -> Money gone, if human wins -> deposit of money"
   ]
  }
 ],
 "metadata": {
  "kernelspec": {
   "display_name": "Python 3",
   "language": "python",
   "name": "python3"
  },
  "language_info": {
   "codemirror_mode": {
    "name": "ipython",
    "version": 3
   },
   "file_extension": ".py",
   "mimetype": "text/x-python",
   "name": "python",
   "nbconvert_exporter": "python",
   "pygments_lexer": "ipython3",
   "version": "3.8.5"
  }
 },
 "nbformat": 4,
 "nbformat_minor": 4
}
