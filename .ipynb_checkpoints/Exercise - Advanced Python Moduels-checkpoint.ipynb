{
 "cells": [
  {
   "cell_type": "code",
   "execution_count": 251,
   "metadata": {},
   "outputs": [],
   "source": [
    "import zipfile\n",
    "import os\n",
    "import re\n",
    "pattern = r'\\w'"
   ]
  },
  {
   "cell_type": "code",
   "execution_count": 252,
   "metadata": {},
   "outputs": [],
   "source": [
    "os.chdir('/home/daniel/projects/python/udemy/extracted_content')"
   ]
  },
  {
   "cell_type": "code",
   "execution_count": 255,
   "metadata": {},
   "outputs": [
    {
     "data": {
      "text/plain": [
       "['One', 'Instructions.txt', 'Four', 'Two', 'Three', 'Five']"
      ]
     },
     "execution_count": 255,
     "metadata": {},
     "output_type": "execute_result"
    }
   ],
   "source": [
    "os.listdir()"
   ]
  },
  {
   "cell_type": "code",
   "execution_count": 265,
   "metadata": {},
   "outputs": [
    {
     "name": "stdout",
     "output_type": "stream",
     "text": [
      "Yes EMTGPSXQEJX.txt\n"
     ]
    }
   ],
   "source": [
    "for folder, sub_folders, files in os.walk(os.getcwd()):\n",
    "    for file in files:\n",
    "\n",
    "        with open(os.path.join(folder, file), 'r') as f:\n",
    "            #if 'Test file' in f.read():\n",
    "            #    print('found! in ' + file)\n",
    "            #elif 'Good' in f.readline():\n",
    "            #    print('found')\n",
    "            if re.search(r'\\d{3}-\\d{3}-\\d{4}', f.read()):\n",
    "                print('Yes ' + file)\n",
    "                for line in f.read():\n",
    "                    print(line)"
   ]
  },
  {
   "cell_type": "code",
   "execution_count": 225,
   "metadata": {},
   "outputs": [],
   "source": [
    "test_string = \"here is a random number 1231231234 , here is phone number formatted 123-123-1234\""
   ]
  },
  {
   "cell_type": "code",
   "execution_count": 237,
   "metadata": {},
   "outputs": [],
   "source": [
    "pattern = r'\\\\d{3}-\\d{4}'"
   ]
  },
  {
   "cell_type": "code",
   "execution_count": 238,
   "metadata": {},
   "outputs": [
    {
     "data": {
      "text/plain": [
       "NoneType"
      ]
     },
     "execution_count": 238,
     "metadata": {},
     "output_type": "execute_result"
    }
   ],
   "source": [
    "type(re.search(pattern,test_string))"
   ]
  }
 ],
 "metadata": {
  "kernelspec": {
   "display_name": "Python 3",
   "language": "python",
   "name": "python3"
  },
  "language_info": {
   "codemirror_mode": {
    "name": "ipython",
    "version": 3
   },
   "file_extension": ".py",
   "mimetype": "text/x-python",
   "name": "python",
   "nbconvert_exporter": "python",
   "pygments_lexer": "ipython3",
   "version": "3.8.5"
  }
 },
 "nbformat": 4,
 "nbformat_minor": 4
}
